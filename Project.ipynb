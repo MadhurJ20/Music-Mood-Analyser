{
 "nbformat": 4,
 "nbformat_minor": 0,
 "metadata": {
  "colab": {
   "provenance": [],
   "authorship_tag": "ABX9TyMTg1pTi1M3K3dDLDITHPIL",
   "include_colab_link": true
  },
  "kernelspec": {
   "name": "python3",
   "language": "python",
   "display_name": "Python 3 (ipykernel)"
  },
  "language_info": {
   "name": "python"
  }
 },
 "cells": [
  {
   "cell_type": "markdown",
   "metadata": {
    "id": "view-in-github",
    "colab_type": "text"
   },
   "source": [
    "<a href=\"https://colab.research.google.com/github/MadhurJ20/Music-Mood-Analyser/blob/main/Project.ipynb\" target=\"_parent\"><img src=\"https://colab.research.google.com/assets/colab-badge.svg\" alt=\"Open In Colab\"/></a>"
   ]
  },
  {
   "cell_type": "markdown",
   "source": [
    "# **Install Required Libraries**\n",
    "\n",
    "1. Pandas: Data Analysis & Manipulation\n",
    "2. Numpy: Speeding up Mathematical Operations\n",
    "3. Matplotlib: Data Visualisation\n",
    "4. Sci-kit Learn: ML & Data Modelling\n"
   ],
   "metadata": {
    "id": "iEyH-qdB79F6"
   }
  },
  {
   "cell_type": "code",
   "execution_count": 7,
   "metadata": {
    "id": "XavEyewY674Y",
    "colab": {
     "base_uri": "https://localhost:8080/"
    },
    "outputId": "d4ad920e-829d-4882-ba68-f688afac0d6e",
    "ExecuteTime": {
     "end_time": "2023-12-18T18:52:08.948231300Z",
     "start_time": "2023-12-18T18:52:02.585184100Z"
    }
   },
   "outputs": [
    {
     "name": "stdout",
     "output_type": "stream",
     "text": [
      "Requirement already satisfied: pandas in c:\\users\\madhu\\pycharmprojects\\music-mood-analyser\\venv\\lib\\site-packages (2.1.4)Note: you may need to restart the kernel to use updated packages.\n",
      "\n",
      "Requirement already satisfied: numpy<2,>=1.26.0 in c:\\users\\madhu\\pycharmprojects\\music-mood-analyser\\venv\\lib\\site-packages (from pandas) (1.26.2)\n",
      "Requirement already satisfied: python-dateutil>=2.8.2 in c:\\users\\madhu\\pycharmprojects\\music-mood-analyser\\venv\\lib\\site-packages (from pandas) (2.8.2)\n",
      "Requirement already satisfied: pytz>=2020.1 in c:\\users\\madhu\\pycharmprojects\\music-mood-analyser\\venv\\lib\\site-packages (from pandas) (2023.3.post1)\n",
      "Requirement already satisfied: tzdata>=2022.1 in c:\\users\\madhu\\pycharmprojects\\music-mood-analyser\\venv\\lib\\site-packages (from pandas) (2023.3)\n",
      "Requirement already satisfied: six>=1.5 in c:\\users\\madhu\\pycharmprojects\\music-mood-analyser\\venv\\lib\\site-packages (from python-dateutil>=2.8.2->pandas) (1.16.0)\n"
     ]
    }
   ],
   "source": [
    "pip install pandas"
   ]
  },
  {
   "cell_type": "code",
   "source": [
    "pip install numpy"
   ],
   "metadata": {
    "id": "JePYDRhU9QGD",
    "colab": {
     "base_uri": "https://localhost:8080/"
    },
    "outputId": "134e51bc-f49b-4fe8-ba03-04d750747b72",
    "ExecuteTime": {
     "end_time": "2023-12-18T18:52:16.473392400Z",
     "start_time": "2023-12-18T18:52:08.920919800Z"
    }
   },
   "execution_count": 8,
   "outputs": [
    {
     "name": "stdout",
     "output_type": "stream",
     "text": [
      "Requirement already satisfied: numpy in c:\\users\\madhu\\pycharmprojects\\music-mood-analyser\\venv\\lib\\site-packages (1.26.2)\n",
      "Note: you may need to restart the kernel to use updated packages.\n"
     ]
    }
   ]
  },
  {
   "cell_type": "code",
   "source": [
    "pip install matplotlib"
   ],
   "metadata": {
    "id": "LuKYV4w49S0v",
    "colab": {
     "base_uri": "https://localhost:8080/"
    },
    "outputId": "f2f543d9-1a30-4385-e8f4-62993017aecc",
    "ExecuteTime": {
     "end_time": "2023-12-18T18:52:22.615055500Z",
     "start_time": "2023-12-18T18:52:16.410421900Z"
    }
   },
   "execution_count": 9,
   "outputs": [
    {
     "name": "stdout",
     "output_type": "stream",
     "text": [
      "Requirement already satisfied: matplotlib in c:\\users\\madhu\\pycharmprojects\\music-mood-analyser\\venv\\lib\\site-packages (3.8.2)Note: you may need to restart the kernel to use updated packages.\n",
      "\n",
      "Requirement already satisfied: contourpy>=1.0.1 in c:\\users\\madhu\\pycharmprojects\\music-mood-analyser\\venv\\lib\\site-packages (from matplotlib) (1.2.0)\n",
      "Requirement already satisfied: cycler>=0.10 in c:\\users\\madhu\\pycharmprojects\\music-mood-analyser\\venv\\lib\\site-packages (from matplotlib) (0.12.1)\n",
      "Requirement already satisfied: fonttools>=4.22.0 in c:\\users\\madhu\\pycharmprojects\\music-mood-analyser\\venv\\lib\\site-packages (from matplotlib) (4.46.0)\n",
      "Requirement already satisfied: kiwisolver>=1.3.1 in c:\\users\\madhu\\pycharmprojects\\music-mood-analyser\\venv\\lib\\site-packages (from matplotlib) (1.4.5)\n",
      "Requirement already satisfied: numpy<2,>=1.21 in c:\\users\\madhu\\pycharmprojects\\music-mood-analyser\\venv\\lib\\site-packages (from matplotlib) (1.26.2)\n",
      "Requirement already satisfied: packaging>=20.0 in c:\\users\\madhu\\pycharmprojects\\music-mood-analyser\\venv\\lib\\site-packages (from matplotlib) (23.2)\n",
      "Requirement already satisfied: pillow>=8 in c:\\users\\madhu\\pycharmprojects\\music-mood-analyser\\venv\\lib\\site-packages (from matplotlib) (10.1.0)\n",
      "Requirement already satisfied: pyparsing>=2.3.1 in c:\\users\\madhu\\pycharmprojects\\music-mood-analyser\\venv\\lib\\site-packages (from matplotlib) (3.1.1)\n",
      "Requirement already satisfied: python-dateutil>=2.7 in c:\\users\\madhu\\pycharmprojects\\music-mood-analyser\\venv\\lib\\site-packages (from matplotlib) (2.8.2)\n",
      "Requirement already satisfied: six>=1.5 in c:\\users\\madhu\\pycharmprojects\\music-mood-analyser\\venv\\lib\\site-packages (from python-dateutil>=2.7->matplotlib) (1.16.0)\n"
     ]
    }
   ]
  },
  {
   "cell_type": "code",
   "source": [
    "pip install scikit-learn"
   ],
   "metadata": {
    "id": "wpJuhFm49Uyw",
    "colab": {
     "base_uri": "https://localhost:8080/"
    },
    "outputId": "f098224e-d097-4103-9ada-ce0f65dd22a0",
    "ExecuteTime": {
     "end_time": "2023-12-18T18:52:27.393540300Z",
     "start_time": "2023-12-18T18:52:22.574559100Z"
    }
   },
   "execution_count": 10,
   "outputs": [
    {
     "name": "stdout",
     "output_type": "stream",
     "text": [
      "Requirement already satisfied: scikit-learn in c:\\users\\madhu\\pycharmprojects\\music-mood-analyser\\venv\\lib\\site-packages (1.3.2)\n",
      "Requirement already satisfied: numpy<2.0,>=1.17.3 in c:\\users\\madhu\\pycharmprojects\\music-mood-analyser\\venv\\lib\\site-packages (from scikit-learn) (1.26.2)\n",
      "Requirement already satisfied: scipy>=1.5.0 in c:\\users\\madhu\\pycharmprojects\\music-mood-analyser\\venv\\lib\\site-packages (from scikit-learn) (1.11.4)\n",
      "Requirement already satisfied: joblib>=1.1.1 in c:\\users\\madhu\\pycharmprojects\\music-mood-analyser\\venv\\lib\\site-packages (from scikit-learn) (1.3.2)\n",
      "Requirement already satisfied: threadpoolctl>=2.0.0 in c:\\users\\madhu\\pycharmprojects\\music-mood-analyser\\venv\\lib\\site-packages (from scikit-learn) (3.2.0)\n",
      "Note: you may need to restart the kernel to use updated packages.\n"
     ]
    }
   ]
  },
  {
   "cell_type": "markdown",
   "source": [
    "# **Import Libraries**"
   ],
   "metadata": {
    "id": "0Sn2kPt49jii"
   }
  },
  {
   "cell_type": "code",
   "source": [
    "import pandas as pd\n",
    "import numpy as np\n",
    "import matplotlib.pyplot as plt"
   ],
   "metadata": {
    "id": "Y2WQhIHc9oes",
    "ExecuteTime": {
     "end_time": "2023-12-18T18:52:27.570477Z",
     "start_time": "2023-12-18T18:52:27.351953Z"
    }
   },
   "execution_count": 11,
   "outputs": []
  },
  {
   "cell_type": "markdown",
   "source": [
    "# **Ingest Data**"
   ],
   "metadata": {
    "id": "KG_82_rf-JWp"
   }
  },
  {
   "cell_type": "code",
   "source": [
    "data=pd.read_csv('content/Dataset.csv')"
   ],
   "metadata": {
    "id": "MC5Rp0JI-K0Y",
    "ExecuteTime": {
     "end_time": "2023-12-18T18:52:27.734703500Z",
     "start_time": "2023-12-18T18:52:27.362714800Z"
    }
   },
   "execution_count": 12,
   "outputs": []
  },
  {
   "cell_type": "code",
   "source": [
    "data            #Displays The Data"
   ],
   "metadata": {
    "colab": {
     "base_uri": "https://localhost:8080/",
     "height": 634
    },
    "id": "X8HeLA0f-95t",
    "outputId": "4f8da77e-e652-4ac7-8888-ab2b7724ed98",
    "ExecuteTime": {
     "end_time": "2023-12-18T18:52:27.790191700Z",
     "start_time": "2023-12-18T18:52:27.420230700Z"
    }
   },
   "execution_count": 13,
   "outputs": [
    {
     "data": {
      "text/plain": "                                            name  \\\n0                                           1999   \n1                                             23   \n2                                       9 Crimes   \n3                                 99 Luftballons   \n4    A Boy Brushed Red Living In Black And White   \n..                                           ...   \n681                                  windcatcher   \n682              yellow is the color of her eyes   \n683                           you broke me first   \n684                          you were good to me   \n685                                         æfre   \n\n                               album          artist                      id  \\\n0                               1999          Prince  2H7PHVdQ3mXqEHXcvclTB0   \n1                                 23  Blonde Redhead  4HIwL9ii9CcXpTOTzMq0MP   \n2                                  9     Damien Rice  5GZEeowhvSieFDiR8fQ2im   \n3                     99 Luftballons            Nena  6HA97v4wEGQ5TUClRM0XLc   \n4        They're Only Chasing Safety       Underoath  47IWLfIKOKhFnz1FUEUIkE   \n..                               ...             ...                     ...   \n681                      windcatcher       Leo Nocta  59VApBbrS2IADQk4ml5mdo   \n682  yellow is the color of her eyes    Soccer Mommy  4D3nttJPU6L0M2epr7sId6   \n683               you broke me first      Tate McRae  45bE4HXI0AwGZXfZtMp8JR   \n684                            brent   Jeremy Zucker  4CxFN5zON70B3VOPBYbd6P   \n685                             æfre           praam  2irbT1BSYaIEF44PlyKaoM   \n\n    release_date  popularity  length  danceability  acousticness  energy  \\\n0     27-10-1982          68  379266         0.866       0.13700  0.7300   \n1     16-04-2007          43  318800         0.381       0.01890  0.8320   \n2     06-11-2006          60  217946         0.346       0.91300  0.1390   \n3     21-08-1984           2  233000         0.466       0.08900  0.4380   \n4     01-01-2004          60  268000         0.419       0.00171  0.9320   \n..           ...         ...     ...           ...           ...     ...   \n681   19-06-2020          36  123066         0.402       0.96100  0.2360   \n682   19-11-2019           5  435080         0.452       0.75700  0.5150   \n683   17-04-2020          87  169265         0.642       0.78600  0.3740   \n684   03-05-2019          76  219146         0.561       0.91300  0.0848   \n685   17-07-2020          41  186331         0.377       0.99400  0.0156   \n\n     instrumentalness  liveness  valence  loudness  speechiness    tempo  key  \\\n0            0.000000    0.0843   0.6250    -8.201       0.0767  118.523    5   \n1            0.196000    0.1530   0.1660    -5.069       0.0492  120.255    8   \n2            0.000077    0.0934   0.1160   -15.326       0.0321  136.168    0   \n3            0.000006    0.1130   0.5870   -12.858       0.0608  193.100    4   \n4            0.000000    0.1370   0.4450    -3.604       0.1060  169.881    1   \n..                ...       ...      ...       ...          ...      ...  ...   \n681          0.919000    0.0921   0.1460   -20.615       0.0603  129.736    0   \n682          0.120000    0.1400   0.1910    -7.351       0.0255   80.537   11   \n683          0.000000    0.0906   0.0799    -9.386       0.0545  124.099    4   \n684          0.000026    0.1120   0.2060   -15.099       0.0404  102.128    2   \n685          0.881000    0.0991   0.0804   -28.435       0.0397  140.179    0   \n\n     time_signature       mood  \n0                 4      Happy  \n1                 4        Sad  \n2                 4        Sad  \n3                 4      Happy  \n4                 4  Energetic  \n..              ...        ...  \n681               3       Calm  \n682               4        Sad  \n683               4        Sad  \n684               4        Sad  \n685               4       Calm  \n\n[686 rows x 19 columns]",
      "text/html": "<div>\n<style scoped>\n    .dataframe tbody tr th:only-of-type {\n        vertical-align: middle;\n    }\n\n    .dataframe tbody tr th {\n        vertical-align: top;\n    }\n\n    .dataframe thead th {\n        text-align: right;\n    }\n</style>\n<table border=\"1\" class=\"dataframe\">\n  <thead>\n    <tr style=\"text-align: right;\">\n      <th></th>\n      <th>name</th>\n      <th>album</th>\n      <th>artist</th>\n      <th>id</th>\n      <th>release_date</th>\n      <th>popularity</th>\n      <th>length</th>\n      <th>danceability</th>\n      <th>acousticness</th>\n      <th>energy</th>\n      <th>instrumentalness</th>\n      <th>liveness</th>\n      <th>valence</th>\n      <th>loudness</th>\n      <th>speechiness</th>\n      <th>tempo</th>\n      <th>key</th>\n      <th>time_signature</th>\n      <th>mood</th>\n    </tr>\n  </thead>\n  <tbody>\n    <tr>\n      <th>0</th>\n      <td>1999</td>\n      <td>1999</td>\n      <td>Prince</td>\n      <td>2H7PHVdQ3mXqEHXcvclTB0</td>\n      <td>27-10-1982</td>\n      <td>68</td>\n      <td>379266</td>\n      <td>0.866</td>\n      <td>0.13700</td>\n      <td>0.7300</td>\n      <td>0.000000</td>\n      <td>0.0843</td>\n      <td>0.6250</td>\n      <td>-8.201</td>\n      <td>0.0767</td>\n      <td>118.523</td>\n      <td>5</td>\n      <td>4</td>\n      <td>Happy</td>\n    </tr>\n    <tr>\n      <th>1</th>\n      <td>23</td>\n      <td>23</td>\n      <td>Blonde Redhead</td>\n      <td>4HIwL9ii9CcXpTOTzMq0MP</td>\n      <td>16-04-2007</td>\n      <td>43</td>\n      <td>318800</td>\n      <td>0.381</td>\n      <td>0.01890</td>\n      <td>0.8320</td>\n      <td>0.196000</td>\n      <td>0.1530</td>\n      <td>0.1660</td>\n      <td>-5.069</td>\n      <td>0.0492</td>\n      <td>120.255</td>\n      <td>8</td>\n      <td>4</td>\n      <td>Sad</td>\n    </tr>\n    <tr>\n      <th>2</th>\n      <td>9 Crimes</td>\n      <td>9</td>\n      <td>Damien Rice</td>\n      <td>5GZEeowhvSieFDiR8fQ2im</td>\n      <td>06-11-2006</td>\n      <td>60</td>\n      <td>217946</td>\n      <td>0.346</td>\n      <td>0.91300</td>\n      <td>0.1390</td>\n      <td>0.000077</td>\n      <td>0.0934</td>\n      <td>0.1160</td>\n      <td>-15.326</td>\n      <td>0.0321</td>\n      <td>136.168</td>\n      <td>0</td>\n      <td>4</td>\n      <td>Sad</td>\n    </tr>\n    <tr>\n      <th>3</th>\n      <td>99 Luftballons</td>\n      <td>99 Luftballons</td>\n      <td>Nena</td>\n      <td>6HA97v4wEGQ5TUClRM0XLc</td>\n      <td>21-08-1984</td>\n      <td>2</td>\n      <td>233000</td>\n      <td>0.466</td>\n      <td>0.08900</td>\n      <td>0.4380</td>\n      <td>0.000006</td>\n      <td>0.1130</td>\n      <td>0.5870</td>\n      <td>-12.858</td>\n      <td>0.0608</td>\n      <td>193.100</td>\n      <td>4</td>\n      <td>4</td>\n      <td>Happy</td>\n    </tr>\n    <tr>\n      <th>4</th>\n      <td>A Boy Brushed Red Living In Black And White</td>\n      <td>They're Only Chasing Safety</td>\n      <td>Underoath</td>\n      <td>47IWLfIKOKhFnz1FUEUIkE</td>\n      <td>01-01-2004</td>\n      <td>60</td>\n      <td>268000</td>\n      <td>0.419</td>\n      <td>0.00171</td>\n      <td>0.9320</td>\n      <td>0.000000</td>\n      <td>0.1370</td>\n      <td>0.4450</td>\n      <td>-3.604</td>\n      <td>0.1060</td>\n      <td>169.881</td>\n      <td>1</td>\n      <td>4</td>\n      <td>Energetic</td>\n    </tr>\n    <tr>\n      <th>...</th>\n      <td>...</td>\n      <td>...</td>\n      <td>...</td>\n      <td>...</td>\n      <td>...</td>\n      <td>...</td>\n      <td>...</td>\n      <td>...</td>\n      <td>...</td>\n      <td>...</td>\n      <td>...</td>\n      <td>...</td>\n      <td>...</td>\n      <td>...</td>\n      <td>...</td>\n      <td>...</td>\n      <td>...</td>\n      <td>...</td>\n      <td>...</td>\n    </tr>\n    <tr>\n      <th>681</th>\n      <td>windcatcher</td>\n      <td>windcatcher</td>\n      <td>Leo Nocta</td>\n      <td>59VApBbrS2IADQk4ml5mdo</td>\n      <td>19-06-2020</td>\n      <td>36</td>\n      <td>123066</td>\n      <td>0.402</td>\n      <td>0.96100</td>\n      <td>0.2360</td>\n      <td>0.919000</td>\n      <td>0.0921</td>\n      <td>0.1460</td>\n      <td>-20.615</td>\n      <td>0.0603</td>\n      <td>129.736</td>\n      <td>0</td>\n      <td>3</td>\n      <td>Calm</td>\n    </tr>\n    <tr>\n      <th>682</th>\n      <td>yellow is the color of her eyes</td>\n      <td>yellow is the color of her eyes</td>\n      <td>Soccer Mommy</td>\n      <td>4D3nttJPU6L0M2epr7sId6</td>\n      <td>19-11-2019</td>\n      <td>5</td>\n      <td>435080</td>\n      <td>0.452</td>\n      <td>0.75700</td>\n      <td>0.5150</td>\n      <td>0.120000</td>\n      <td>0.1400</td>\n      <td>0.1910</td>\n      <td>-7.351</td>\n      <td>0.0255</td>\n      <td>80.537</td>\n      <td>11</td>\n      <td>4</td>\n      <td>Sad</td>\n    </tr>\n    <tr>\n      <th>683</th>\n      <td>you broke me first</td>\n      <td>you broke me first</td>\n      <td>Tate McRae</td>\n      <td>45bE4HXI0AwGZXfZtMp8JR</td>\n      <td>17-04-2020</td>\n      <td>87</td>\n      <td>169265</td>\n      <td>0.642</td>\n      <td>0.78600</td>\n      <td>0.3740</td>\n      <td>0.000000</td>\n      <td>0.0906</td>\n      <td>0.0799</td>\n      <td>-9.386</td>\n      <td>0.0545</td>\n      <td>124.099</td>\n      <td>4</td>\n      <td>4</td>\n      <td>Sad</td>\n    </tr>\n    <tr>\n      <th>684</th>\n      <td>you were good to me</td>\n      <td>brent</td>\n      <td>Jeremy Zucker</td>\n      <td>4CxFN5zON70B3VOPBYbd6P</td>\n      <td>03-05-2019</td>\n      <td>76</td>\n      <td>219146</td>\n      <td>0.561</td>\n      <td>0.91300</td>\n      <td>0.0848</td>\n      <td>0.000026</td>\n      <td>0.1120</td>\n      <td>0.2060</td>\n      <td>-15.099</td>\n      <td>0.0404</td>\n      <td>102.128</td>\n      <td>2</td>\n      <td>4</td>\n      <td>Sad</td>\n    </tr>\n    <tr>\n      <th>685</th>\n      <td>æfre</td>\n      <td>æfre</td>\n      <td>praam</td>\n      <td>2irbT1BSYaIEF44PlyKaoM</td>\n      <td>17-07-2020</td>\n      <td>41</td>\n      <td>186331</td>\n      <td>0.377</td>\n      <td>0.99400</td>\n      <td>0.0156</td>\n      <td>0.881000</td>\n      <td>0.0991</td>\n      <td>0.0804</td>\n      <td>-28.435</td>\n      <td>0.0397</td>\n      <td>140.179</td>\n      <td>0</td>\n      <td>4</td>\n      <td>Calm</td>\n    </tr>\n  </tbody>\n</table>\n<p>686 rows × 19 columns</p>\n</div>"
     },
     "execution_count": 13,
     "metadata": {},
     "output_type": "execute_result"
    }
   ]
  },
  {
   "cell_type": "markdown",
   "source": [
    "# **Useful Operations On DataFrames**"
   ],
   "metadata": {
    "id": "FZQyFmHbBevU"
   }
  },
  {
   "cell_type": "code",
   "source": [
    "data.head()         #Displays First 5 Entries Or As Many Specified\n",
    "data.tail()         #Displays Last 5 Entries Or As Many Specified\n",
    "data.info()         #Displays Column Names & Type of Data\n",
    "data.shape          #Displays Number of Rows & Columns\n",
    "data.describe()     #Displays Mean, Standard Deviation, Percentiles\n",
    "data.isnull()       #Displays Missing Values\n",
    "data.isnull().sum() #Displays Number Of Missing Entries Per Column"
   ],
   "metadata": {
    "id": "6lKZmhC9_fH2",
    "colab": {
     "base_uri": "https://localhost:8080/"
    },
    "outputId": "bdfa725c-19b2-40cd-db56-cb244605b1b9",
    "ExecuteTime": {
     "end_time": "2023-12-18T18:52:27.989933800Z",
     "start_time": "2023-12-18T18:52:27.503956800Z"
    }
   },
   "execution_count": 14,
   "outputs": [
    {
     "name": "stdout",
     "output_type": "stream",
     "text": [
      "<class 'pandas.core.frame.DataFrame'>\n",
      "RangeIndex: 686 entries, 0 to 685\n",
      "Data columns (total 19 columns):\n",
      " #   Column            Non-Null Count  Dtype  \n",
      "---  ------            --------------  -----  \n",
      " 0   name              686 non-null    object \n",
      " 1   album             686 non-null    object \n",
      " 2   artist            686 non-null    object \n",
      " 3   id                686 non-null    object \n",
      " 4   release_date      686 non-null    object \n",
      " 5   popularity        686 non-null    int64  \n",
      " 6   length            686 non-null    int64  \n",
      " 7   danceability      686 non-null    float64\n",
      " 8   acousticness      686 non-null    float64\n",
      " 9   energy            686 non-null    float64\n",
      " 10  instrumentalness  686 non-null    float64\n",
      " 11  liveness          686 non-null    float64\n",
      " 12  valence           686 non-null    float64\n",
      " 13  loudness          686 non-null    float64\n",
      " 14  speechiness       686 non-null    float64\n",
      " 15  tempo             686 non-null    float64\n",
      " 16  key               686 non-null    int64  \n",
      " 17  time_signature    686 non-null    int64  \n",
      " 18  mood              686 non-null    object \n",
      "dtypes: float64(9), int64(4), object(6)\n",
      "memory usage: 102.0+ KB\n"
     ]
    },
    {
     "data": {
      "text/plain": "name                0\nalbum               0\nartist              0\nid                  0\nrelease_date        0\npopularity          0\nlength              0\ndanceability        0\nacousticness        0\nenergy              0\ninstrumentalness    0\nliveness            0\nvalence             0\nloudness            0\nspeechiness         0\ntempo               0\nkey                 0\ntime_signature      0\nmood                0\ndtype: int64"
     },
     "execution_count": 14,
     "metadata": {},
     "output_type": "execute_result"
    }
   ]
  },
  {
   "cell_type": "code",
   "source": [
    "mood_counts = data['mood'].value_counts()\n",
    "print(mood_counts)"
   ],
   "metadata": {
    "colab": {
     "base_uri": "https://localhost:8080/"
    },
    "id": "VZhkdxIeGApg",
    "outputId": "2148ccb5-e570-46b4-9a58-fcda1163c440",
    "ExecuteTime": {
     "end_time": "2023-12-18T18:52:28.069508400Z",
     "start_time": "2023-12-18T18:52:27.597858900Z"
    }
   },
   "execution_count": 15,
   "outputs": [
    {
     "name": "stdout",
     "output_type": "stream",
     "text": [
      "mood\n",
      "Sad          197\n",
      "Calm         195\n",
      "Energetic    154\n",
      "Happy        140\n",
      "Name: count, dtype: int64\n"
     ]
    }
   ]
  },
  {
   "cell_type": "markdown",
   "source": [
    "# **Creating Various Graphs**\n",
    "\n",
    "\n",
    "1.  Bar Graph\n",
    "2.  Pie Chart\n",
    "3.  Correlation Matrix"
   ],
   "metadata": {
    "id": "UD-7SSeaPBYl"
   }
  },
  {
   "cell_type": "code",
   "source": [
    "#Bar Graph\n",
    "plt.figure(figsize=(8,6))\n",
    "mood_counts.plot(kind='bar')\n",
    "plt.xlabel('Mood')\n",
    "plt.ylabel('Count')\n",
    "plt.title('Distribution of Moods')\n",
    "plt.show()"
   ],
   "metadata": {
    "colab": {
     "base_uri": "https://localhost:8080/",
     "height": 616
    },
    "id": "aMWV4McdGQ5E",
    "outputId": "56f47a9d-23ba-4747-a5e1-a6e970dcfbf0",
    "ExecuteTime": {
     "end_time": "2023-12-18T18:52:28.435649800Z",
     "start_time": "2023-12-18T18:52:27.625229800Z"
    }
   },
   "execution_count": 16,
   "outputs": [
    {
     "data": {
      "text/plain": "<Figure size 800x600 with 1 Axes>",
      "image/png": "[encoded data removed]"
     },
     "metadata": {},
     "output_type": "display_data"
    }
   ]
  },
  {
   "cell_type": "code",
   "source": [
    "#Exploring Numerical Features\n",
    "numerical_features = ['length', 'danceability', 'acousticness', 'energy',\n",
    "                      'instrumentalness', 'liveness', 'valence', 'loudness',\n",
    "                      'speechiness', 'tempo']\n",
    "numerical_stats = data[numerical_features].describe()\n",
    "print(numerical_stats)"
   ],
   "metadata": {
    "colab": {
     "base_uri": "https://localhost:8080/"
    },
    "id": "ffVHgGA-QTl9",
    "outputId": "a54acdc3-ad16-4666-c4e5-6c5af457b132",
    "ExecuteTime": {
     "end_time": "2023-12-18T18:52:28.545772900Z",
     "start_time": "2023-12-18T18:52:28.202831500Z"
    }
   },
   "execution_count": 17,
   "outputs": [
    {
     "name": "stdout",
     "output_type": "stream",
     "text": [
      "              length  danceability  acousticness      energy  \\\n",
      "count     686.000000    686.000000    686.000000  686.000000   \n",
      "mean   221791.485423      0.500553      0.449749    0.507693   \n",
      "std     63399.058492      0.158955      0.410729    0.326490   \n",
      "min     76773.000000      0.078900      0.000005    0.001290   \n",
      "25%    179114.500000      0.388000      0.014825    0.202000   \n",
      "50%    213273.000000      0.505000      0.359000    0.495500   \n",
      "75%    254569.750000      0.612000      0.905750    0.844000   \n",
      "max    518373.000000      0.941000      0.996000    0.994000   \n",
      "\n",
      "       instrumentalness    liveness     valence    loudness  speechiness  \\\n",
      "count        686.000000  686.000000  686.000000  686.000000   686.000000   \n",
      "mean           0.349610    0.166867    0.342438  -11.531020     0.053946   \n",
      "std            0.410517    0.142128    0.252304    7.468629     0.041374   \n",
      "min            0.000000    0.031800    0.035300  -42.018000     0.023200   \n",
      "25%            0.000034    0.092500    0.131250  -15.858750     0.033200   \n",
      "50%            0.026350    0.111000    0.282000   -9.358000     0.040700   \n",
      "75%            0.858250    0.173750    0.508750   -5.634500     0.057375   \n",
      "max            0.966000    0.963000    0.977000    1.342000     0.416000   \n",
      "\n",
      "            tempo  \n",
      "count  686.000000  \n",
      "mean   119.134679  \n",
      "std     28.978685  \n",
      "min     50.960000  \n",
      "25%     99.008750  \n",
      "50%    120.071000  \n",
      "75%    132.953250  \n",
      "max    217.950000  \n"
     ]
    }
   ]
  },
  {
   "cell_type": "code",
   "source": [
    "#Visualising Numerical Features\n",
    "plt.figure(figsize=(10,6))\n",
    "data[numerical_features].hist(bins=20)\n",
    "plt.tight_layout()\n",
    "plt.show()"
   ],
   "metadata": {
    "colab": {
     "base_uri": "https://localhost:8080/",
     "height": 504
    },
    "id": "QxItaD_URZFW",
    "outputId": "e2416bd7-9e5c-45bf-c29d-be44fc8cb004",
    "ExecuteTime": {
     "end_time": "2023-12-18T18:52:29.842793200Z",
     "start_time": "2023-12-18T18:52:28.265430Z"
    }
   },
   "execution_count": 18,
   "outputs": [
    {
     "data": {
      "text/plain": "<Figure size 1000x600 with 0 Axes>"
     },
     "metadata": {},
     "output_type": "display_data"
    },
    {
     "data": {
      "text/plain": "<Figure size 640x480 with 12 Axes>",
      "image/png": "[encoded data removed]"
     },
     "metadata": {},
     "output_type": "display_data"
    }
   ]
  },
  {
   "cell_type": "code",
   "source": [
    "#Analysing Categorical Features\n",
    "categorical_features = ['album', 'artist', 'key']\n",
    "for feature in categorical_features:\n",
    "    feature_counts=data[feature].value_counts()\n",
    "    print(f'\\n{feature}:\\n{feature_counts}')"
   ],
   "metadata": {
    "colab": {
     "base_uri": "https://localhost:8080/"
    },
    "id": "EybA83ppSFbM",
    "outputId": "ee5bd3ee-df6d-42ab-a5c4-8a7a9182363d",
    "ExecuteTime": {
     "end_time": "2023-12-18T18:52:30.017652700Z",
     "start_time": "2023-12-18T18:52:29.810706700Z"
    }
   },
   "execution_count": 19,
   "outputs": [
    {
     "name": "stdout",
     "output_type": "stream",
     "text": [
      "\n",
      "album:\n",
      "album\n",
      "The Sickness (10th Anniversary Edition)    2\n",
      "Purple Rain                                2\n",
      "Chapter I                                  2\n",
      "The Reason                                 2\n",
      "Anthology                                  2\n",
      "                                          ..\n",
      "Halfway There (feat. Lena Leon)            1\n",
      "Tomorrow Come Today                        1\n",
      "Body And Soul                              1\n",
      "Happy Together                             1\n",
      "æfre                                       1\n",
      "Name: count, Length: 661, dtype: int64\n",
      "\n",
      "artist:\n",
      "artist\n",
      "Various Artists    9\n",
      "Wilson Trouvé      6\n",
      "Nicky Romero       5\n",
      "Linkin Park        4\n",
      "Hoobastank         4\n",
      "                  ..\n",
      "Boysetsfire        1\n",
      "Tiësto             1\n",
      "Brand New          1\n",
      "Sir Roy            1\n",
      "Tate McRae         1\n",
      "Name: count, Length: 540, dtype: int64\n",
      "\n",
      "key:\n",
      "key\n",
      "0     83\n",
      "9     80\n",
      "7     72\n",
      "2     66\n",
      "1     60\n",
      "5     58\n",
      "4     58\n",
      "6     53\n",
      "11    53\n",
      "8     45\n",
      "10    41\n",
      "3     17\n",
      "Name: count, dtype: int64\n"
     ]
    }
   ]
  },
  {
   "cell_type": "code",
   "source": [
    "#Pie Chart\n",
    "plt.figure(figsize=(10,6))\n",
    "data['mood'].value_counts().plot.pie(autopct='%1.1f%%')\n",
    "plt.ylabel('')\n",
    "plt.title('Distribution of Moods')\n",
    "plt.show()"
   ],
   "metadata": {
    "colab": {
     "base_uri": "https://localhost:8080/",
     "height": 521
    },
    "id": "u7WaHP4oOOEW",
    "outputId": "d12211db-aa71-4c99-86df-c4bcb21d31ee",
    "ExecuteTime": {
     "end_time": "2023-12-18T18:52:30.252730500Z",
     "start_time": "2023-12-18T18:52:29.846959900Z"
    }
   },
   "execution_count": 20,
   "outputs": [
    {
     "data": {
      "text/plain": "<Figure size 1000x600 with 1 Axes>",
      "image/png": "[encoded data removed]"
     },
     "metadata": {},
     "output_type": "display_data"
    }
   ]
  },
  {
   "cell_type": "code",
   "source": [
    "#Distribution of Categorical Data\n",
    "plt.figure(figsize=(8,6))\n",
    "feature_counts.plot(kind='bar')\n",
    "plt.xlabel(feature)\n",
    "plt.ylabel('Count')\n",
    "plt.title('Distribution of Key')\n",
    "plt.show()"
   ],
   "metadata": {
    "colab": {
     "base_uri": "https://localhost:8080/",
     "height": 568
    },
    "id": "M3ChCA0-QB6m",
    "outputId": "3e7ad55f-2e08-46b3-eb34-f3a212e24fc5",
    "ExecuteTime": {
     "end_time": "2023-12-18T18:52:30.540393200Z",
     "start_time": "2023-12-18T18:52:30.001757200Z"
    }
   },
   "execution_count": 21,
   "outputs": [
    {
     "data": {
      "text/plain": "<Figure size 800x600 with 1 Axes>",
      "image/png": "[encoded data removed]"
     },
     "metadata": {},
     "output_type": "display_data"
    }
   ]
  },
  {
   "cell_type": "code",
   "source": [
    "#Correlation Analysis\n",
    "correlation_matrix = data[numerical_features + ['mood']].corr()\n",
    "plt.figure(figsize=(10,6))\n",
    "plt.imshow(correlation_matrix, cmap='coolwarm', vmin=-1, vmax=1)\n",
    "plt.colorbar()\n",
    "plt.xticks(range(len(numerical_features) + 1), numerical_features + ['mood'], rotation=45)\n",
    "plt.yticks(range(len(numerical_features) + 1), numerical_features + ['mood'])\n",
    "plt.title('Correlation Matrix')\n",
    "plt.show()"
   ],
   "metadata": {
    "colab": {
     "base_uri": "https://localhost:8080/",
     "height": 680
    },
    "id": "DrvLnVxaUNR9",
    "outputId": "70981726-284c-46e0-a911-765c1f17f310",
    "ExecuteTime": {
     "end_time": "2023-12-18T18:52:31.957098800Z",
     "start_time": "2023-12-18T18:52:30.502326900Z"
    }
   },
   "execution_count": 22,
   "outputs": [
    {
     "ename": "ValueError",
     "evalue": "could not convert string to float: 'Happy'",
     "output_type": "error",
     "traceback": [
      "\u001B[1;31m---------------------------------------------------------------------------\u001B[0m",
      "\u001B[1;31mValueError\u001B[0m                                Traceback (most recent call last)",
      "Cell \u001B[1;32mIn[22], line 2\u001B[0m\n\u001B[0;32m      1\u001B[0m \u001B[38;5;66;03m#Correlation Analysis\u001B[39;00m\n\u001B[1;32m----> 2\u001B[0m correlation_matrix \u001B[38;5;241m=\u001B[39m \u001B[43mdata\u001B[49m\u001B[43m[\u001B[49m\u001B[43mnumerical_features\u001B[49m\u001B[43m \u001B[49m\u001B[38;5;241;43m+\u001B[39;49m\u001B[43m \u001B[49m\u001B[43m[\u001B[49m\u001B[38;5;124;43m'\u001B[39;49m\u001B[38;5;124;43mmood\u001B[39;49m\u001B[38;5;124;43m'\u001B[39;49m\u001B[43m]\u001B[49m\u001B[43m]\u001B[49m\u001B[38;5;241;43m.\u001B[39;49m\u001B[43mcorr\u001B[49m\u001B[43m(\u001B[49m\u001B[43m)\u001B[49m\n\u001B[0;32m      3\u001B[0m plt\u001B[38;5;241m.\u001B[39mfigure(figsize\u001B[38;5;241m=\u001B[39m(\u001B[38;5;241m10\u001B[39m,\u001B[38;5;241m6\u001B[39m))\n\u001B[0;32m      4\u001B[0m plt\u001B[38;5;241m.\u001B[39mimshow(correlation_matrix, cmap\u001B[38;5;241m=\u001B[39m\u001B[38;5;124m'\u001B[39m\u001B[38;5;124mcoolwarm\u001B[39m\u001B[38;5;124m'\u001B[39m, vmin\u001B[38;5;241m=\u001B[39m\u001B[38;5;241m-\u001B[39m\u001B[38;5;241m1\u001B[39m, vmax\u001B[38;5;241m=\u001B[39m\u001B[38;5;241m1\u001B[39m)\n",
      "File \u001B[1;32m~\\PycharmProjects\\Music-Mood-Analyser\\venv\\Lib\\site-packages\\pandas\\core\\frame.py:10704\u001B[0m, in \u001B[0;36mDataFrame.corr\u001B[1;34m(self, method, min_periods, numeric_only)\u001B[0m\n\u001B[0;32m  10702\u001B[0m cols \u001B[38;5;241m=\u001B[39m data\u001B[38;5;241m.\u001B[39mcolumns\n\u001B[0;32m  10703\u001B[0m idx \u001B[38;5;241m=\u001B[39m cols\u001B[38;5;241m.\u001B[39mcopy()\n\u001B[1;32m> 10704\u001B[0m mat \u001B[38;5;241m=\u001B[39m \u001B[43mdata\u001B[49m\u001B[38;5;241;43m.\u001B[39;49m\u001B[43mto_numpy\u001B[49m\u001B[43m(\u001B[49m\u001B[43mdtype\u001B[49m\u001B[38;5;241;43m=\u001B[39;49m\u001B[38;5;28;43mfloat\u001B[39;49m\u001B[43m,\u001B[49m\u001B[43m \u001B[49m\u001B[43mna_value\u001B[49m\u001B[38;5;241;43m=\u001B[39;49m\u001B[43mnp\u001B[49m\u001B[38;5;241;43m.\u001B[39;49m\u001B[43mnan\u001B[49m\u001B[43m,\u001B[49m\u001B[43m \u001B[49m\u001B[43mcopy\u001B[49m\u001B[38;5;241;43m=\u001B[39;49m\u001B[38;5;28;43;01mFalse\u001B[39;49;00m\u001B[43m)\u001B[49m\n\u001B[0;32m  10706\u001B[0m \u001B[38;5;28;01mif\u001B[39;00m method \u001B[38;5;241m==\u001B[39m \u001B[38;5;124m\"\u001B[39m\u001B[38;5;124mpearson\u001B[39m\u001B[38;5;124m\"\u001B[39m:\n\u001B[0;32m  10707\u001B[0m     correl \u001B[38;5;241m=\u001B[39m libalgos\u001B[38;5;241m.\u001B[39mnancorr(mat, minp\u001B[38;5;241m=\u001B[39mmin_periods)\n",
      "File \u001B[1;32m~\\PycharmProjects\\Music-Mood-Analyser\\venv\\Lib\\site-packages\\pandas\\core\\frame.py:1889\u001B[0m, in \u001B[0;36mDataFrame.to_numpy\u001B[1;34m(self, dtype, copy, na_value)\u001B[0m\n\u001B[0;32m   1887\u001B[0m \u001B[38;5;28;01mif\u001B[39;00m dtype \u001B[38;5;129;01mis\u001B[39;00m \u001B[38;5;129;01mnot\u001B[39;00m \u001B[38;5;28;01mNone\u001B[39;00m:\n\u001B[0;32m   1888\u001B[0m     dtype \u001B[38;5;241m=\u001B[39m np\u001B[38;5;241m.\u001B[39mdtype(dtype)\n\u001B[1;32m-> 1889\u001B[0m result \u001B[38;5;241m=\u001B[39m \u001B[38;5;28;43mself\u001B[39;49m\u001B[38;5;241;43m.\u001B[39;49m\u001B[43m_mgr\u001B[49m\u001B[38;5;241;43m.\u001B[39;49m\u001B[43mas_array\u001B[49m\u001B[43m(\u001B[49m\u001B[43mdtype\u001B[49m\u001B[38;5;241;43m=\u001B[39;49m\u001B[43mdtype\u001B[49m\u001B[43m,\u001B[49m\u001B[43m \u001B[49m\u001B[43mcopy\u001B[49m\u001B[38;5;241;43m=\u001B[39;49m\u001B[43mcopy\u001B[49m\u001B[43m,\u001B[49m\u001B[43m \u001B[49m\u001B[43mna_value\u001B[49m\u001B[38;5;241;43m=\u001B[39;49m\u001B[43mna_value\u001B[49m\u001B[43m)\u001B[49m\n\u001B[0;32m   1890\u001B[0m \u001B[38;5;28;01mif\u001B[39;00m result\u001B[38;5;241m.\u001B[39mdtype \u001B[38;5;129;01mis\u001B[39;00m \u001B[38;5;129;01mnot\u001B[39;00m dtype:\n\u001B[0;32m   1891\u001B[0m     result \u001B[38;5;241m=\u001B[39m np\u001B[38;5;241m.\u001B[39marray(result, dtype\u001B[38;5;241m=\u001B[39mdtype, copy\u001B[38;5;241m=\u001B[39m\u001B[38;5;28;01mFalse\u001B[39;00m)\n",
      "File \u001B[1;32m~\\PycharmProjects\\Music-Mood-Analyser\\venv\\Lib\\site-packages\\pandas\\core\\internals\\managers.py:1656\u001B[0m, in \u001B[0;36mBlockManager.as_array\u001B[1;34m(self, dtype, copy, na_value)\u001B[0m\n\u001B[0;32m   1654\u001B[0m         arr\u001B[38;5;241m.\u001B[39mflags\u001B[38;5;241m.\u001B[39mwriteable \u001B[38;5;241m=\u001B[39m \u001B[38;5;28;01mFalse\u001B[39;00m\n\u001B[0;32m   1655\u001B[0m \u001B[38;5;28;01melse\u001B[39;00m:\n\u001B[1;32m-> 1656\u001B[0m     arr \u001B[38;5;241m=\u001B[39m \u001B[38;5;28;43mself\u001B[39;49m\u001B[38;5;241;43m.\u001B[39;49m\u001B[43m_interleave\u001B[49m\u001B[43m(\u001B[49m\u001B[43mdtype\u001B[49m\u001B[38;5;241;43m=\u001B[39;49m\u001B[43mdtype\u001B[49m\u001B[43m,\u001B[49m\u001B[43m \u001B[49m\u001B[43mna_value\u001B[49m\u001B[38;5;241;43m=\u001B[39;49m\u001B[43mna_value\u001B[49m\u001B[43m)\u001B[49m\n\u001B[0;32m   1657\u001B[0m     \u001B[38;5;66;03m# The underlying data was copied within _interleave, so no need\u001B[39;00m\n\u001B[0;32m   1658\u001B[0m     \u001B[38;5;66;03m# to further copy if copy=True or setting na_value\u001B[39;00m\n\u001B[0;32m   1660\u001B[0m \u001B[38;5;28;01mif\u001B[39;00m na_value \u001B[38;5;129;01mis\u001B[39;00m lib\u001B[38;5;241m.\u001B[39mno_default:\n",
      "File \u001B[1;32m~\\PycharmProjects\\Music-Mood-Analyser\\venv\\Lib\\site-packages\\pandas\\core\\internals\\managers.py:1715\u001B[0m, in \u001B[0;36mBlockManager._interleave\u001B[1;34m(self, dtype, na_value)\u001B[0m\n\u001B[0;32m   1713\u001B[0m     \u001B[38;5;28;01melse\u001B[39;00m:\n\u001B[0;32m   1714\u001B[0m         arr \u001B[38;5;241m=\u001B[39m blk\u001B[38;5;241m.\u001B[39mget_values(dtype)\n\u001B[1;32m-> 1715\u001B[0m     \u001B[43mresult\u001B[49m\u001B[43m[\u001B[49m\u001B[43mrl\u001B[49m\u001B[38;5;241;43m.\u001B[39;49m\u001B[43mindexer\u001B[49m\u001B[43m]\u001B[49m \u001B[38;5;241m=\u001B[39m arr\n\u001B[0;32m   1716\u001B[0m     itemmask[rl\u001B[38;5;241m.\u001B[39mindexer] \u001B[38;5;241m=\u001B[39m \u001B[38;5;241m1\u001B[39m\n\u001B[0;32m   1718\u001B[0m \u001B[38;5;28;01mif\u001B[39;00m \u001B[38;5;129;01mnot\u001B[39;00m itemmask\u001B[38;5;241m.\u001B[39mall():\n",
      "\u001B[1;31mValueError\u001B[0m: could not convert string to float: 'Happy'"
     ]
    }
   ]
  },
  {
   "cell_type": "code",
   "source": [
    "mood_counts = data['mood'].value_counts()\n",
    "print(mood_counts)"
   ],
   "metadata": {
    "colab": {
     "base_uri": "https://localhost:8080/"
    },
    "id": "77-ux5vxwDHd",
    "outputId": "c64fa221-fe01-4605-91a1-2ffd2d900eba",
    "ExecuteTime": {
     "start_time": "2023-12-18T18:52:31.945494200Z"
    }
   },
   "execution_count": null,
   "outputs": []
  },
  {
   "cell_type": "code",
   "source": [
    "#Visualise the distribution of Moods\n",
    "plt.figure(figsize=(10,6))\n",
    "mood_counts.plot(kind='bar')\n",
    "plt.xlabel('Mood')\n",
    "plt.ylabel('Count')\n",
    "plt.title('Distribution of Moods')\n",
    "plt.show()"
   ],
   "metadata": {
    "colab": {
     "base_uri": "https://localhost:8080/",
     "height": 616
    },
    "id": "5-Tkjx6awQuy",
    "outputId": "007d2f0a-9e2c-480d-f301-90b7cb78c0f9",
    "ExecuteTime": {
     "start_time": "2023-12-18T18:52:31.949738200Z"
    }
   },
   "execution_count": null,
   "outputs": []
  },
  {
   "cell_type": "markdown",
   "source": [
    "# Model Building"
   ],
   "metadata": {
    "id": "-g5Esv2kw46W"
   }
  },
  {
   "cell_type": "code",
   "source": [
    "from sklearn.model_selection import train_test_split\n",
    "from sklearn.preprocessing import MinMaxScaler, LabelEncoder"
   ],
   "metadata": {
    "id": "MSg1j2T_w_ms",
    "ExecuteTime": {
     "start_time": "2023-12-18T18:52:31.953979200Z"
    }
   },
   "execution_count": null,
   "outputs": []
  },
  {
   "cell_type": "code",
   "source": [
    "data.head()"
   ],
   "metadata": {
    "colab": {
     "base_uri": "https://localhost:8080/",
     "height": 347
    },
    "id": "tRJ1FvTvxO-1",
    "outputId": "9db7461b-ae96-4817-9f52-e7355131bd47",
    "ExecuteTime": {
     "end_time": "2023-12-18T18:52:32.046046800Z",
     "start_time": "2023-12-18T18:52:31.959301Z"
    }
   },
   "execution_count": null,
   "outputs": []
  },
  {
   "cell_type": "code",
   "source": [
    "music = data.drop(['name', 'album', 'artist', 'id', 'release_date'], axis = 1)\n",
    "music.head()"
   ],
   "metadata": {
    "colab": {
     "base_uri": "https://localhost:8080/",
     "height": 206
    },
    "id": "7Zx_ufGlxSe7",
    "outputId": "0d50abdd-80c8-4a3a-f3af-e39b46780a64",
    "ExecuteTime": {
     "start_time": "2023-12-18T18:52:31.964754500Z"
    }
   },
   "execution_count": null,
   "outputs": []
  },
  {
   "cell_type": "code",
   "source": [
    "X = music.drop('mood', axis = 1)    # Features\n",
    "Y = music['mood']                   # Target Variable"
   ],
   "metadata": {
    "id": "xtT0uCZnyMHI",
    "ExecuteTime": {
     "start_time": "2023-12-18T18:52:31.969007200Z"
    }
   },
   "execution_count": null,
   "outputs": []
  },
  {
   "cell_type": "code",
   "source": [
    "# Feature Scaling: Normalising Numerical Features\n",
    "X = MinMaxScaler().fit_transform(X)"
   ],
   "metadata": {
    "id": "Volhf1Auyy9v",
    "ExecuteTime": {
     "start_time": "2023-12-18T18:52:31.973262100Z"
    }
   },
   "execution_count": null,
   "outputs": []
  },
  {
   "cell_type": "code",
   "source": [
    "# Encode Targets (Labels)\n",
    "encoder = LabelEncoder()\n",
    "encoder.fit(Y)\n",
    "encoded_Y = encoder.transform(Y)\n",
    "print(encoded_Y)"
   ],
   "metadata": {
    "colab": {
     "base_uri": "https://localhost:8080/"
    },
    "id": "I7fZ_GUBy8rx",
    "outputId": "4a38b164-fc7c-44a5-bb9d-6ad42eeb209c",
    "ExecuteTime": {
     "start_time": "2023-12-18T18:52:31.977565500Z"
    }
   },
   "execution_count": null,
   "outputs": []
  },
  {
   "cell_type": "code",
   "source": [
    "X_train, X_test, Y_train, Y_test = train_test_split(X, encoded_Y, test_size=0.2, random_state=0)"
   ],
   "metadata": {
    "id": "sa38ZZjw0CPK",
    "ExecuteTime": {
     "start_time": "2023-12-18T18:52:31.981857800Z"
    }
   },
   "execution_count": null,
   "outputs": []
  },
  {
   "cell_type": "code",
   "source": [
    "from sklearn.ensemble import RandomForestClassifier\n",
    "from sklearn.model_selection import train_test_split\n",
    "print('Shape of X_train = ', X_train.shape)\n",
    "print('Shape of Y_train = ', Y_train.shape)\n",
    "print('Shape of X_test = ', X_test.shape)\n",
    "print('Shape of Y_test = ', Y_test.shape)"
   ],
   "metadata": {
    "colab": {
     "base_uri": "https://localhost:8080/"
    },
    "id": "fk8hjdyQ0aMI",
    "outputId": "9440efb2-cf9e-4d4f-938c-6286e3fbc22e",
    "ExecuteTime": {
     "start_time": "2023-12-18T18:52:31.984982800Z"
    }
   },
   "execution_count": null,
   "outputs": []
  },
  {
   "cell_type": "markdown",
   "source": [
    "# Training the Random Forest Classifier"
   ],
   "metadata": {
    "id": "reGu0hxZ2SvC"
   }
  },
  {
   "cell_type": "code",
   "source": [
    "from sklearn.ensemble import RandomForestClassifier"
   ],
   "metadata": {
    "id": "qQeMIGRp2ZhS",
    "ExecuteTime": {
     "start_time": "2023-12-18T18:52:31.989186600Z"
    }
   },
   "execution_count": null,
   "outputs": []
  },
  {
   "cell_type": "code",
   "source": [
    "classifier = RandomForestClassifier(n_estimators=100, criterion='gini')\n",
    "classifier.fit(X_train, Y_train)"
   ],
   "metadata": {
    "colab": {
     "base_uri": "https://localhost:8080/",
     "height": 74
    },
    "id": "qltdG_MT2kFz",
    "outputId": "a2f8d81f-582f-428e-d7d3-1552834c8469",
    "ExecuteTime": {
     "start_time": "2023-12-18T18:52:31.992462400Z"
    }
   },
   "execution_count": null,
   "outputs": []
  },
  {
   "cell_type": "code",
   "source": [
    "classifier.score(X_test,Y_test)"
   ],
   "metadata": {
    "colab": {
     "base_uri": "https://localhost:8080/"
    },
    "id": "4eWH2tOa2-qm",
    "outputId": "ae5cbb66-b9ab-4dbc-c98c-4d6fc1a69f7c",
    "ExecuteTime": {
     "start_time": "2023-12-18T18:52:31.996773400Z"
    }
   },
   "execution_count": null,
   "outputs": []
  },
  {
   "cell_type": "markdown",
   "source": [
    "# Model Evaluation"
   ],
   "metadata": {
    "id": "8nHmHSnx3Fam"
   }
  },
  {
   "cell_type": "code",
   "source": [
    "from sklearn.metrics import classification_report\n",
    "# Evaluate the model on test set\n",
    "Y_pred = classifier.predict(X_test)\n",
    "\n",
    "# Classification Report\n",
    "report = classification_report(Y_test, Y_pred)\n",
    "print(report)"
   ],
   "metadata": {
    "colab": {
     "base_uri": "https://localhost:8080/"
    },
    "id": "gL0o77SQ3KB5",
    "outputId": "d31635fa-5734-4cc2-e7b7-77606d4a5129",
    "ExecuteTime": {
     "start_time": "2023-12-18T18:52:31.999883700Z"
    }
   },
   "execution_count": null,
   "outputs": []
  },
  {
   "cell_type": "markdown",
   "source": [
    "# Recommendation Engine"
   ],
   "metadata": {
    "id": "ejbQvui53yDe"
   }
  },
  {
   "cell_type": "code",
   "source": [
    "# Filter dataset to songs with the desired mood\n",
    "recommended_songs = music[music['mood'] == 'Happy']\n",
    "print('Recommended Songs:\\n', recommended_songs)"
   ],
   "metadata": {
    "colab": {
     "base_uri": "https://localhost:8080/"
    },
    "id": "Cn_m9e563vGW",
    "outputId": "fdfffe8f-1056-4308-ec02-dd9722fc5eb7",
    "ExecuteTime": {
     "start_time": "2023-12-18T18:52:32.003019700Z"
    }
   },
   "execution_count": null,
   "outputs": []
  }
 ]
}
